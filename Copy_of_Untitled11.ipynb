{
  "nbformat": 4,
  "nbformat_minor": 0,
  "metadata": {
    "colab": {
      "name": "Copy of Untitled11.ipynb",
      "provenance": [],
      "authorship_tag": "ABX9TyPCS4OKr0pbySz8YEzZHAam",
      "include_colab_link": true
    },
    "kernelspec": {
      "name": "python3",
      "display_name": "Python 3"
    },
    "language_info": {
      "name": "python"
    }
  },
  "cells": [
    {
      "cell_type": "markdown",
      "metadata": {
        "id": "view-in-github",
        "colab_type": "text"
      },
      "source": [
        "<a href=\"https://colab.research.google.com/github/8601226872/8601226872/blob/main/Copy_of_Untitled11.ipynb\" target=\"_parent\"><img src=\"https://colab.research.google.com/assets/colab-badge.svg\" alt=\"Open In Colab\"/></a>"
      ]
    },
    {
      "cell_type": "code",
      "metadata": {
        "colab": {
          "base_uri": "https://localhost:8080/"
        },
        "id": "FUwgbQot-RJa",
        "outputId": "97166ac1-54d9-4de6-a0fe-84eac5d5563f"
      },
      "source": [
        "import random\n",
        "tuple1=(1,2,3,4,5)\n",
        "print(random.choice(tuple1))"
      ],
      "execution_count": null,
      "outputs": [
        {
          "output_type": "stream",
          "name": "stdout",
          "text": [
            "3\n"
          ]
        }
      ]
    },
    {
      "cell_type": "code",
      "metadata": {
        "colab": {
          "base_uri": "https://localhost:8080/"
        },
        "id": "scjHJwrj-5iW",
        "outputId": "a82fa2d0-8d1c-432a-8dcf-e1aa9f3ad79b"
      },
      "source": [
        "import random\n",
        "tuple1=('rahul','rohan','sohan','neeraj','paasta','naasta','breakfest')\n",
        "print(random.choice(tuple1))"
      ],
      "execution_count": null,
      "outputs": [
        {
          "output_type": "stream",
          "name": "stdout",
          "text": [
            "rahul\n"
          ]
        }
      ]
    },
    {
      "cell_type": "code",
      "metadata": {
        "colab": {
          "base_uri": "https://localhost:8080/"
        },
        "id": "9QOaQZPyDrix",
        "outputId": "e64cecb7-faf0-4c67-f722-60b8a33c41d1"
      },
      "source": [
        "fruites=['mangoes', 'grapes', 'Apple']\n",
        "for fruit in fruites:\n",
        "  print(\"current fruites:\", fruit)\n",
        "print(\"good bye\")  \n",
        "\n"
      ],
      "execution_count": null,
      "outputs": [
        {
          "output_type": "stream",
          "name": "stdout",
          "text": [
            "current fruites: mangoes\n",
            "current fruites: grapes\n",
            "current fruites: Apple\n",
            "good bye\n"
          ]
        }
      ]
    },
    {
      "cell_type": "code",
      "metadata": {
        "colab": {
          "base_uri": "https://localhost:8080/",
          "height": 231
        },
        "id": "pqmkQKnwHO3m",
        "outputId": "8593b3e1-a089-4a76-87cf-108f3c38c1fd"
      },
      "source": [
        "num=int(input(\"number:\"))\n",
        "factorial=1\n",
        "if num<0:\n",
        "  print(\"must be positive\")\n",
        "elif num==0:\n",
        "  print(\"factorial==1\")\n",
        "else:\n",
        "  for i in range(1,num+1):\n",
        "    factorial=factroial*i  \n",
        "print(factorial)    "
      ],
      "execution_count": null,
      "outputs": [
        {
          "name": "stdout",
          "output_type": "stream",
          "text": [
            "number:7\n"
          ]
        },
        {
          "output_type": "error",
          "ename": "NameError",
          "evalue": "ignored",
          "traceback": [
            "\u001b[0;31m---------------------------------------------------------------------------\u001b[0m",
            "\u001b[0;31mNameError\u001b[0m                                 Traceback (most recent call last)",
            "\u001b[0;32m<ipython-input-11-e8079b06c1a0>\u001b[0m in \u001b[0;36m<module>\u001b[0;34m()\u001b[0m\n\u001b[1;32m      7\u001b[0m \u001b[0;32melse\u001b[0m\u001b[0;34m:\u001b[0m\u001b[0;34m\u001b[0m\u001b[0;34m\u001b[0m\u001b[0m\n\u001b[1;32m      8\u001b[0m   \u001b[0;32mfor\u001b[0m \u001b[0mi\u001b[0m \u001b[0;32min\u001b[0m \u001b[0mrange\u001b[0m\u001b[0;34m(\u001b[0m\u001b[0;36m1\u001b[0m\u001b[0;34m,\u001b[0m\u001b[0mnum\u001b[0m\u001b[0;34m+\u001b[0m\u001b[0;36m1\u001b[0m\u001b[0;34m)\u001b[0m\u001b[0;34m:\u001b[0m\u001b[0;34m\u001b[0m\u001b[0;34m\u001b[0m\u001b[0m\n\u001b[0;32m----> 9\u001b[0;31m     \u001b[0mfactorial\u001b[0m\u001b[0;34m=\u001b[0m\u001b[0mfactroial\u001b[0m\u001b[0;34m*\u001b[0m\u001b[0mi\u001b[0m\u001b[0;34m\u001b[0m\u001b[0;34m\u001b[0m\u001b[0m\n\u001b[0m\u001b[1;32m     10\u001b[0m \u001b[0mprint\u001b[0m\u001b[0;34m(\u001b[0m\u001b[0mfactorial\u001b[0m\u001b[0;34m)\u001b[0m\u001b[0;34m\u001b[0m\u001b[0;34m\u001b[0m\u001b[0m\n",
            "\u001b[0;31mNameError\u001b[0m: name 'factroial' is not defined"
          ]
        }
      ]
    },
    {
      "cell_type": "code",
      "metadata": {
        "id": "WALIG468KdB-"
      },
      "source": [
        ""
      ],
      "execution_count": null,
      "outputs": []
    },
    {
      "cell_type": "code",
      "metadata": {
        "colab": {
          "base_uri": "https://localhost:8080/",
          "height": 129
        },
        "id": "zX4MPYukkUMg",
        "outputId": "5976d252-377b-47cf-e00f-ecf00d5e5970"
      },
      "source": [
        "print(\"welcome to iron bank of bravos Atm\")\n",
        "restart='Y'\n",
        "chances=3\n",
        "balance=67.14\n",
        "while chances>=0:\n",
        "  pin=int(input('please enter your 4 digit pin:'))\n",
        "  if pin==1234:\n",
        "    print('you entered your pin correctly\\n')\n",
        "    while restart not in('n', 'No', 'no', 'n'):\n",
        "      print(\"please press 1 for your Balance\\n\")\n",
        "      print(\"please press 2 for your withdrawl\\n\")\n",
        "      print(\"please press 3 for your pay in\\n\")\n",
        "      print(\"please press 4 to return card\\n\")\n",
        "      option=int(input('what would you like to choose?'))\n",
        "      if option==1:\n",
        "        print('your balance is A$', 'balance', '\\n')\n",
        "        print('would you like to go back')\n",
        "        if restart in('n', 'No', 'no', 'N'):\n",
        "          print('Thankyou')\n",
        "          break\n",
        "      elif option==2:\n",
        "        option2==('y')\n",
        "        withdrawl=float(input('how much would you like to withdraw?'\\nA$10/A$20/A$40/A$60/A$80/A$100'/n))\n",
        "        if withdrawl in [10,20,40,60,80,100]:\n",
        "          balance=balance-withdrawl\n",
        "          print('your balance is now A$', balance)\n",
        "          restart=input('would you like to go back?')\n",
        "          if restart in('n','No', 'no', 'N'):\n",
        "            print('Thankyou')\n",
        "            break\n",
        "      elif option==3:\n",
        "        pay_in=float(input('How much would you like to pay in?'))\n",
        "        balance=balance+pay_in\n",
        "        print('\\nyour balance is now A$ balance', balance)\n",
        "        restart=input('would you like to go back?')\n",
        "        if restart in('n', 'No', 'no', 'N'):\n",
        "          print('Thankyou')\n",
        "          break\n",
        "        else:\n",
        "          print(\"please enter a correct number.\\n\")\n",
        "          restart='y'\n",
        "  elif pin!=('1234'):\n",
        "    print('incorrect password')\n",
        "    chances=chances-1\n",
        "    if chances==0:\n",
        "      print('\\nNo more tries')\n",
        "      break                \n",
        "\n",
        "\n"
      ],
      "execution_count": null,
      "outputs": [
        {
          "output_type": "error",
          "ename": "SyntaxError",
          "evalue": "ignored",
          "traceback": [
            "\u001b[0;36m  File \u001b[0;32m\"<ipython-input-15-109d6d338792>\"\u001b[0;36m, line \u001b[0;32m23\u001b[0m\n\u001b[0;31m    withdrawl=float(input('how much would you like to withdraw?'\\nA$10/A$20/A$40/A$60/A$80/A$100'/n))\u001b[0m\n\u001b[0m                                                                                                     ^\u001b[0m\n\u001b[0;31mSyntaxError\u001b[0m\u001b[0;31m:\u001b[0m unexpected character after line continuation character\n"
          ]
        }
      ]
    },
    {
      "cell_type": "code",
      "metadata": {
        "colab": {
          "base_uri": "https://localhost:8080/"
        },
        "id": "KDJ6T3CXXgvh",
        "outputId": "2cf5f977-3a78-490a-8b3b-d0d29b033cad"
      },
      "source": [
        "import random\n",
        "print(\"random number between 0 and 1 is:\", end=\"\")\n",
        "print(random.random())"
      ],
      "execution_count": null,
      "outputs": [
        {
          "output_type": "stream",
          "name": "stdout",
          "text": [
            "random number between 0 and 1 is:0.44194260449272127\n"
          ]
        }
      ]
    },
    {
      "cell_type": "code",
      "metadata": {
        "colab": {
          "base_uri": "https://localhost:8080/"
        },
        "id": "3Bs7gUu8Z_ta",
        "outputId": "b7565907-d161-42fc-d182-815bb02d36e8"
      },
      "source": [
        "w=\"this is the left side off\\n\"\n",
        "e=\"this is the right side\"\n",
        "print(w+e)"
      ],
      "execution_count": null,
      "outputs": [
        {
          "output_type": "stream",
          "name": "stdout",
          "text": [
            "this is the left side off\n",
            "this is the right side\n"
          ]
        }
      ]
    },
    {
      "cell_type": "code",
      "metadata": {
        "colab": {
          "base_uri": "https://localhost:8080/"
        },
        "id": "wF0nuBWWfoEH",
        "outputId": "5c0cb796-fa68-4e20-b828-1f2018ac28bc"
      },
      "source": [
        "end1=\"c\"\n",
        "end2=\"h\"\n",
        "end3=\"e\"\n",
        "end4=\"e\"\n",
        "end5=\"s\"\n",
        "end6=\"e\"\n",
        "end7=\"B\"\n",
        "end8=\"u\"\n",
        "end9=\"r\"\n",
        "end10=\"g\"\n",
        "end11=\"e\"\n",
        "end12=\"r\"\n",
        "print(end1 + end2 + end3 + end4 + end5 + end6 , end =' ')\n",
        "print(end7 + end8 + end9 + end10 + end11 + end12)"
      ],
      "execution_count": null,
      "outputs": [
        {
          "output_type": "stream",
          "name": "stdout",
          "text": [
            "cheese Burger\n"
          ]
        }
      ]
    },
    {
      "cell_type": "code",
      "metadata": {
        "id": "CqxCWWXYkNEg"
      },
      "source": [
        ""
      ],
      "execution_count": null,
      "outputs": []
    }
  ]
}